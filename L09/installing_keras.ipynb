{
 "cells": [
  {
   "cell_type": "markdown",
   "metadata": {},
   "source": [
    "# Installing Keras\n",
    "\n",
    "1: Launch the __anaconda prompt__ console (CMD), via the Start menu\n",
    "\n",
    "<img src=\"Figs/Screenshot_anaconda_prompt.png\" style=\"width:200px\">\n",
    "\n",
    "2: list installed packages via \n",
    "\n",
    "```bash\n",
    "> conda list\n",
    "```\n",
    "\n",
    "in the anaconda console.\n",
    "\n",
    "3: install keras via\n",
    "\n",
    "```bash\n",
    "> conda install keras\n",
    "```\n",
    "and WAIT 1 to 30 min before the spin-progress bar finish (an problem makes `conda` extreme slow in the latest two releases of anaconda!).\n",
    "\n",
    "<img src=\"Figs/Screenshot_anaconda_prompt_2.png\" style=\"width:700px\">\n",
    "\n",
    "4: if it downgrades your Scikit-learn (use version function in the cell below), then try removing keras and/or tensorflow and reinstall\n",
    "\n",
    "```bash\n",
    "> conda remove keras tensorflow\n",
    "```\n",
    "\n",
    "```bash\n",
    "> conda install keras tensorflow\n",
    "```\n",
    "\n",
    "or perhaps try installing from conda-forge\n",
    "\n",
    "```\n",
    "conda install -c conda-forge tensorflow keras \n",
    "```\n",
    "\n",
    "5: if everythings fails: use the GPU-cluster or use keras in TensorFlow ala\n",
    "\n",
    "```python\n",
    "import tensorflow as tf\n",
    "mnist = tf.keras.datasets.mnist\n",
    "```"
   ]
  },
  {
   "cell_type": "code",
   "execution_count": 4,
   "metadata": {},
   "outputs": [
    {
     "name": "stdout",
     "output_type": "stream",
     "text": [
      "Python version:          3.6.8.\n",
      "Scikit-learn version:    0.20.2.\n",
      "Keras version:           2.2.2\n",
      "Tensorflow version:      1.10.0\n"
     ]
    }
   ],
   "source": [
    "from libitmal import versions_v2 as itmalversions\n",
    "\n",
    "itmalversions.Versions()"
   ]
  }
 ],
 "metadata": {
  "kernelspec": {
   "display_name": "Python 3",
   "language": "python",
   "name": "python3"
  },
  "language_info": {
   "codemirror_mode": {
    "name": "ipython",
    "version": 3
   },
   "file_extension": ".py",
   "mimetype": "text/x-python",
   "name": "python",
   "nbconvert_exporter": "python",
   "pygments_lexer": "ipython3",
   "version": "3.6.8"
  },
  "varInspector": {
   "cols": {
    "lenName": 16,
    "lenType": 16,
    "lenVar": 40
   },
   "kernels_config": {
    "python": {
     "delete_cmd_postfix": "",
     "delete_cmd_prefix": "del ",
     "library": "var_list.py",
     "varRefreshCmd": "print(var_dic_list())"
    },
    "r": {
     "delete_cmd_postfix": ") ",
     "delete_cmd_prefix": "rm(",
     "library": "var_list.r",
     "varRefreshCmd": "cat(var_dic_list()) "
    }
   },
   "types_to_exclude": [
    "module",
    "function",
    "builtin_function_or_method",
    "instance",
    "_Feature"
   ],
   "window_display": true
  }
 },
 "nbformat": 4,
 "nbformat_minor": 2
}
