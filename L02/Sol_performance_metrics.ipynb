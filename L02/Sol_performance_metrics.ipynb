{
 "cells": [
  {
   "cell_type": "markdown",
   "metadata": {},
   "source": [
    "#### Qa Implement the Accuracy function and test it on the MNIST data.\n",
    "The task is to implement an accuracy function on the form `MyAccuracy(y_true, y_pred)`, test it and compare it with the Scikit-learn `sklearn.metrics.accuracy_score()`."
   ]
  },
  {
   "cell_type": "code",
   "execution_count": 1,
   "metadata": {},
   "outputs": [],
   "source": [
    "#MNIST DATA LOADER IMPLEMENTED\n",
    "from sklearn.datasets import fetch_openml #https://scikit-learn.org/stable/modules/generated/sklearn.datasets.fetch_openml.html\n",
    "import numpy as np\n",
    "def MNIST_GetDataSet():\n",
    "    X, y = fetch_openml('mnist_784',return_X_y=True) \n",
    "    #Bemærk, ingen normalisering! \n",
    "    return X, y\n",
    "\n",
    "X,y = MNIST_GetDataSet()\n",
    "#Converting to integer type, as it's string from source.\n",
    "y = y.astype(np.uint8)"
   ]
  },
  {
   "cell_type": "code",
   "execution_count": 2,
   "metadata": {},
   "outputs": [
    {
     "name": "stdout",
     "output_type": "stream",
     "text": [
      "Accuracy with Dummy_Classifier\n",
      "0.9108\n",
      "\n",
      "TestAccuracy with Dummy_Classifier\n",
      "my a          =0.9108\n",
      "scikit-learn a=0.9108\n",
      "\n",
      "Accuracy with SGD_Classifier\n",
      "0.9492\n",
      "\n",
      "TestAccuracy with SGD_Classifier\n",
      "my a          =0.9492\n",
      "scikit-learn a=0.9492\n"
     ]
    }
   ],
   "source": [
    "# TODO: Qa...\n",
    "from sklearn.datasets import fetch_openml\n",
    "from sklearn.neighbors import KNeighborsRegressor\n",
    "import numpy as np\n",
    "from sklearn.base import BaseEstimator\n",
    "from sklearn.metrics import accuracy_score\n",
    "from sklearn.linear_model import SGDClassifier\n",
    "\n",
    "# Load data from https://www.openml.org/d/554\n",
    "# Convert to [0;1] via scaling (not always needed)\n",
    "#X = X / 255.\n",
    "\n",
    "class DummyClassifier(BaseEstimator):\n",
    "    def fit(self, X, y=None):\n",
    "        return self\n",
    "    def predict(self, X):\n",
    "        return np.zeros((len(X), 1), dtype=bool)\n",
    "\n",
    "#Calculating the TP, FP, FN and TN values with the function MyConfusion\n",
    "def MyConfusion(y_true, y_pred):\n",
    "    try:\n",
    "        a,b = np.shape(y_pred)\n",
    "        if b: \n",
    "            y_pred = y_pred.flatten()\n",
    "    except: \n",
    "        #Pass here as we do not want the printed message a lot of times in the following, although good to have. \n",
    "        pass #print(\"Exception caught: y_pred, already 1D array\")\n",
    "    #Checks if the y_pred is multidimensional - if so, flattens it. \n",
    "\n",
    "    y_true = np.array(y_true)\n",
    "    y_pred = np.array(y_pred)\n",
    "\n",
    "    TP = 0\n",
    "    FP = 0\n",
    "    FN = 0\n",
    "    TN = 0\n",
    "\n",
    "    for i in range(len(y_pred)):\n",
    "        if y_pred[i] == y_true[i] == 1:\n",
    "            TP += 1\n",
    "        if y_pred[i] == 1 and y_true[i] == 0:\n",
    "            FP += 1\n",
    "        if y_pred[i] == 0 and y_true[i] == 1:\n",
    "            FN += 1\n",
    "        if y_pred[i] == y_true[i] == 0:\n",
    "            TN += 1\n",
    "    return TP, FP, FN, TN\n",
    "\n",
    "#Defining MyAccuracy using the MyConfusion function. \n",
    "def MyAccuracy(y_true, y_pred):\n",
    "    TP, FP, FN, TN = MyConfusion(y_true, y_pred)\n",
    "    acc = (TP + TN)/(TP+TN+FP+FN)\n",
    "    return acc\n",
    "    \n",
    "    \n",
    "# TEST FUNCTION: example of a comperator, using Scikit-learn accuracy_score\n",
    "def TestAccuracy(y_true, y_pred):\n",
    "    a0=MyAccuracy(y_true, y_pred)\n",
    "    a1=accuracy_score(y_true, y_pred) #https://scikit-learn.org/stable/modules/generated/sklearn.metrics.accuracy_score.html\n",
    "\n",
    "    print(f\"my a          ={a0}\")\n",
    "    print(f\"scikit-learn a={a1}\")\n",
    "\n",
    "    # do some numerical comparison here, like\n",
    "    #  if fabs(a0-a1)<eps then ..\n",
    "    \n",
    "\n",
    "X_train, X_test, y_train, y_test = X[:60000], X[60000:], y[:60000], y[60000:]\n",
    "\n",
    "#Separating in train and test\n",
    "y_train_5 = (y_train == 5) \n",
    "y_test_5 = (y_test == 5)\n",
    "\n",
    "#Using Dummy_classifier\n",
    "Not_5 = DummyClassifier()\n",
    "Not_5.fit(X_train, y_train_5)\n",
    "y_pred_dum = Not_5.predict(X_test)\n",
    "\n",
    "#Using SGD_classifier\n",
    "#SGD_Classifyer\n",
    "sgd_clf = SGDClassifier(random_state=42) #The SGDClassifier relies on randomness during training (hence the name “stochastic”).\n",
    "#If you want reproducible results, you should set the random_state parameter\n",
    "#Training the model\n",
    "sgd_clf.fit(X_train, y_train_5)\n",
    "#Making predictions\n",
    "y_pred_SGD = sgd_clf.predict(X_test)\n",
    "            \n",
    "print(\"Accuracy with Dummy_Classifier\")\n",
    "print(MyAccuracy(y_test_5, y_pred_dum))\n",
    "print(\"\\nTestAccuracy with Dummy_Classifier\")\n",
    "TestAccuracy(y_test_5, y_pred_dum)\n",
    "\n",
    "\n",
    "print(\"\\nAccuracy with SGD_Classifier\")\n",
    "print(MyAccuracy(y_test_5, y_pred_SGD))\n",
    "print(\"\\nTestAccuracy with SGD_Classifier\")\n",
    "TestAccuracy(y_test_5, y_pred_SGD)"
   ]
  },
  {
   "cell_type": "markdown",
   "metadata": {},
   "source": [
    "The accuracies are equal, indicating correct implementation of MyAccuracy. Notice that MyConfusion is not an attempt to define the confusion matrix, as this follows in the coming exercises. "
   ]
  },
  {
   "cell_type": "markdown",
   "metadata": {},
   "source": [
    "#### Qb Implement Precision, Recall and $F_1$-score and test it on the MNIST data for both the SGD and Dummy classifier models\n",
    "The task is to implement `MyPrecision`, `MyRecall` and `MyF1Score` functions on the MNIST dataset. The functions are to be called for the predicted values of the Dummy and SGD classifier. It's pointed out, that the test-data was created in the previous task. To adress the denominator issue, it's chosen to analyse it, and return \"infinity\" as a placeholder if 0, which of course is to be replaced by what ever is appropriate."
   ]
  },
  {
   "cell_type": "code",
   "execution_count": 3,
   "metadata": {},
   "outputs": [
    {
     "name": "stdout",
     "output_type": "stream",
     "text": [
      "Accuracy for Dummy Classifier\n",
      "0.9108\n",
      "Precision for Dummy Classifier\n",
      "0\n",
      "Recall for Dummy Classifier\n",
      "0.0\n",
      "F1Score for Dummy Classifier\n",
      "0.0\n",
      "\n",
      "Accuracy for SGD_Classifier\n",
      "0.9492\n",
      "Precision for SGD_Classifier\n",
      "0.6618887015177066\n",
      "Recall for SGD_Classifier\n",
      "0.8800448430493274\n",
      "F1Score for SGD_Classifier\n",
      "0.8800448430493274\n"
     ]
    }
   ],
   "source": [
    "#The Confusion matrix in value form\n",
    "\n",
    "#Redefining as I got smarter\n",
    "def MyAccuracy(y_true, y_pred):\n",
    "    TP, FP, FN, TN = MyConfusion(y_true, y_pred)\n",
    "    if TP+TN+FP+FN == 0:\n",
    "        return 0\n",
    "    elif TP != 0 or FN != 0 or TN!=0 or FP!=0:\n",
    "        acc = (TP + TN)/(TP+TN+FP+FN) \n",
    "        return acc\n",
    "    \n",
    "\n",
    "def MyPrecision(y_true, y_pred):\n",
    "    TP, FP, FN, TN = MyConfusion(y_true, y_pred)\n",
    "    prec = 0\n",
    "    if TP+FN == 0:\n",
    "        prec = \"Infinity\"\n",
    "    elif TP != 0 or FP != 0:\n",
    "        prec = TP/(TP+FP) #Returns zero for dummyClassifier as we have no positives at all.    \n",
    "        \n",
    "    return prec\n",
    "\n",
    "def MyRecall(y_true, y_pred):\n",
    "    TP, FP, FN, TN = MyConfusion(y_true, y_pred)\n",
    "    rec = 0\n",
    "    if TP+FN == 0:\n",
    "        rec = \"Infinity\"\n",
    "    elif TP != 0 or FN != 0:\n",
    "        rec = TP/(TP+FN) #Returns zero for dummyClassifier as we have no positives at all.\n",
    "        \n",
    "    return rec\n",
    "    \n",
    "def MyF1Score(y_true, y_pred):\n",
    "    TP, FP, FN, TN = MyConfusion(y_true, y_pred)\n",
    "    prec = MyPrecision(y_true, y_pred)\n",
    "    rec = MyRecall(y_true, y_pred)\n",
    "    \n",
    "    F1 = 0\n",
    "    if prec+rec == 0:\n",
    "        F1 = \"Infinity\"\n",
    "    elif TP != 0 or FN != 0:\n",
    "        F1 = (2*prec*rec)/(prec+rec) #Returns zero for dummyClassifier as we have no positives at all.\n",
    "\n",
    "    \n",
    "print(\"Accuracy for Dummy Classifier\")\n",
    "acc = MyAccuracy(y_test_5, y_pred_dum)\n",
    "print(acc)\n",
    "\n",
    "print(\"Precision for Dummy Classifier\")\n",
    "prec = MyPrecision(y_test_5, y_pred_dum)\n",
    "print(prec)\n",
    "\n",
    "print(\"Recall for Dummy Classifier\")\n",
    "rec = MyRecall(y_test_5, y_pred_dum)\n",
    "print(rec)\n",
    "\n",
    "print(\"F1Score for Dummy Classifier\")\n",
    "f1 = MyRecall(y_test_5, y_pred_dum)\n",
    "print(f1)\n",
    "\n",
    "\n",
    "\n",
    "print(\"\\nAccuracy for SGD_Classifier\")\n",
    "acc = MyAccuracy(y_test_5, y_pred_SGD)\n",
    "print(acc)\n",
    "\n",
    "print(\"Precision for SGD_Classifier\")\n",
    "prec = MyPrecision(y_test_5, y_pred_SGD)\n",
    "print(prec)\n",
    "\n",
    "print(\"Recall for SGD_Classifier\")\n",
    "rec = MyRecall(y_test_5, y_pred_SGD)\n",
    "print(rec)\n",
    "\n",
    "print(\"F1Score for SGD_Classifier\")\n",
    "f1 = MyRecall(y_test_5, y_pred_SGD)\n",
    "print(f1)"
   ]
  },
  {
   "cell_type": "markdown",
   "metadata": {},
   "source": [
    "#### Qc The Confusion Matrix\n",
    "On what form is the Scikit-learn confusion matrix? \n",
    "$$\n",
    "\\def\\by{\\mathbf{y}}\n",
    "\\def\\ba{\\begin{array}{|l|l|l|}}\n",
    "\\def\\ea{\\end{array}}\n",
    "$$\n",
    "\n",
    "Scikit-learns confusion matrix is organized in a format for the confusion matrix on the form of: \n",
    "$$ \n",
    "\\ba\n",
    "\\hline\n",
    " TN & FN \\\\\\hline\n",
    " FP & TP \\\\\\hline\n",
    "\\ea\n",
    "$$\n",
    "\n",
    "Furthermore, generate the confusion matrix for the dummy and SGD classifiers. \n",
    "https://scikit-learn.org/stable/modules/generated/sklearn.metrics.confusion_matrix.html"
   ]
  },
  {
   "cell_type": "code",
   "execution_count": 4,
   "metadata": {},
   "outputs": [
    {
     "name": "stdout",
     "output_type": "stream",
     "text": [
      "For the Dummy Classifier\n",
      "Confusion Matrix defined by Scikit-learn\n",
      "[[9108    0]\n",
      " [ 892    0]]\n",
      "\n",
      "For the SGD Classifier\n",
      "Confusion Matrix defined by Scikit-learn\n",
      "[[8707  401]\n",
      " [ 107  785]]\n",
      "\n",
      "Calling the test and predicted vectors in wrong order\n",
      "[[9108  892]\n",
      " [   0    0]]\n"
     ]
    }
   ],
   "source": [
    "from sklearn import * #Aware that this is an inefficient import. \n",
    "\n",
    "def MyConfusionMatrix(y_true, y_pred):\n",
    "    TP, FP, FN, TN = MyConfusion(y_true, y_pred)\n",
    "    myConfusionMatrix = np.array([[TP, FP], [FN, TN]])    #By definition of Wikipedia https://en.wikipedia.org/wiki/Confusion_matrix\n",
    "    \n",
    "    return myConfusionMatrix\n",
    "    \n",
    "\n",
    "print(\"For the Dummy Classifier\")\n",
    "ConfM_dum = metrics.confusion_matrix(y_test_5,y_pred_dum)\n",
    "print(\"Confusion Matrix defined by Scikit-learn\")\n",
    "print(ConfM_dum)\n",
    "\n",
    "print(\"\\nFor the SGD Classifier\")\n",
    "ConfM_SGD = metrics.confusion_matrix(y_test_5,y_pred_SGD)\n",
    "print(\"Confusion Matrix defined by Scikit-learn\")\n",
    "print(ConfM_SGD)\n",
    "\n",
    "#Not needed for the exercise. \n",
    "#MyConfM = MyConfusionMatrix(y_test_5, y_pred)\n",
    "#print(\"Confusion Matrix defined by Wikipedia\")\n",
    "#print(MyConfM)\n",
    "\n",
    "#Wrong call\n",
    "ConfW= metrics.confusion_matrix(y_pred_dum,y_test_5)\n",
    "print(\"\\nCalling the test and predicted vectors in wrong order\")\n",
    "print(ConfW)"
   ]
  },
  {
   "cell_type": "markdown",
   "metadata": {},
   "source": [
    "It's evident that if the call is messed up and the data are switched, we see that the TP and TN are switched, and the FP and FN are switched with respect to the Wikipedia definition. With respect to Scikit-learns definition only the FN and FP are switched. "
   ]
  },
  {
   "cell_type": "markdown",
   "metadata": {},
   "source": [
    "#### Qd A Confusion Matrix Heat-map\n",
    "The task is to generate a heat map of the two confusion matricies, named `M_dummy = ConfM_dum` and same goes for SGD, generated from the Dummy and the SGD-classifier. \n",
    "This is solved using the matplotlib function matshow, as shown below. "
   ]
  },
  {
   "cell_type": "code",
   "execution_count": 7,
   "metadata": {},
   "outputs": [
    {
     "data": {
      "image/png": "[encoded data removed]",
      "text/plain": [
       "<Figure size 288x288 with 1 Axes>"
      ]
     },
     "metadata": {
      "needs_background": "light"
     },
     "output_type": "display_data"
    },
    {
     "data": {
      "image/png": "[encoded data removed]",
      "text/plain": [
       "<Figure size 288x288 with 1 Axes>"
      ]
     },
     "metadata": {
      "needs_background": "light"
     },
     "output_type": "display_data"
    },
    {
     "data": {
      "image/png": "[encoded data removed]",
      "text/plain": [
       "<Figure size 288x288 with 1 Axes>"
      ]
     },
     "metadata": {
      "needs_background": "light"
     },
     "output_type": "display_data"
    },
    {
     "data": {
      "image/png": "[encoded data removed]",
      "text/plain": [
       "<Figure size 288x288 with 1 Axes>"
      ]
     },
     "metadata": {
      "needs_background": "light"
     },
     "output_type": "display_data"
    }
   ],
   "source": [
    "import matplotlib.pyplot as plt\n",
    "\n",
    "#Plotting\n",
    "plt.matshow(ConfM_dum, cmap=plt.cm.gray) \n",
    "plt.title(\"Confusion matrix of Dummy Classifier as Heat map\")\n",
    "plt.show()\n",
    "\n",
    "plt.matshow(ConfM_SGD, cmap=plt.cm.gray)\n",
    "plt.title(\"Confusion matrix of SGD Classifier as Heat map\")\n",
    "plt.show()\n",
    "\n",
    "\n",
    "#Calculating the number of \n",
    "row_number_vals_dum = ConfM_dum.sum(axis=1, keepdims=True)\n",
    "normConfM_dum = ConfM_dum / row_number_vals_dum\n",
    "\n",
    "row_number_vals_SGD = ConfM_SGD.sum(axis=1, keepdims=True)\n",
    "normConfM_SGD = ConfM_SGD / row_number_vals_SGD\n",
    "\n",
    "#Removing the diagonal values, so to better analyse the off-diagonal error\n",
    "np.fill_diagonal(ConfM_dum, 0)\n",
    "np.fill_diagonal(normConfM_SGD, 0)\n",
    "\n",
    "#Plotting normlised versions\n",
    "plt.matshow(normConfM_dum, cmap=plt.cm.gray) \n",
    "plt.title(\"Normalised Confusion matrix of Dummy Classifier as Heat map\")\n",
    "plt.show()\n",
    "\n",
    "plt.matshow(normConfM_SGD, cmap=plt.cm.gray)\n",
    "plt.title(\"Normalised Confusion matrix of SGD Classifier as Heat map\")\n",
    "plt.show()\n",
    "\n",
    "\n",
    "\n",
    "#Not needed for Exercise\n",
    "#plt.matshow(ConfM, cmap=plt.cm.gray)\n",
    "#plt.title(\"Confusion matrix defined by Wiki as Heat map\")\n",
    "#plt.show()"
   ]
  },
  {
   "cell_type": "markdown",
   "metadata": {},
   "source": [
    "In the heat maps it's evident that there is a marginally better performance of the SGD Classifier, as the diagonal is of a marginally brighter colour, especially True Positives.\n",
    "https://matplotlib.org/stable/api/_as_gen/matplotlib.pyplot.matshow.html?highlight=matshow#matplotlib.pyplot.matshow"
   ]
  },
  {
   "cell_type": "markdown",
   "metadata": {},
   "source": [
    "### Qe Conclusion\n",
    "To extract the essence of the above exercises, it's strictly needed to look into the performance metrics, which we are extracting. The performance metrics tell us a lot of interesting information. For example it's clear to see that the dummy-classifier reaches an accuracy of whopping 91.08%, but it's quickly seen from the precision (the precision of the true predictions) and recall (the ratio of true positives to all the predictions), that it's misleading to believe the accuracy only. Of course not forgetting the F1 score, which combines the precision and recall to create a metric which is only high with high precision and recall. Furthermore we're working with the confusion matrix, in which the True positives, True negatives and their false counterparts are arranged. From the Confusion matrix all the previously mentioned metrics can be extracted, which also can be visualised in which we're generally interested in the diagonal being lit up, indicating that most of the data is predicted correctly with TP and TN. "
   ]
  }
 ],
 "metadata": {
  "kernelspec": {
   "display_name": "Python 3",
   "language": "python",
   "name": "python3"
  },
  "language_info": {
   "codemirror_mode": {
    "name": "ipython",
    "version": 3
   },
   "file_extension": ".py",
   "mimetype": "text/x-python",
   "name": "python",
   "nbconvert_exporter": "python",
   "pygments_lexer": "ipython3",
   "version": "3.8.3"
  },
  "varInspector": {
   "cols": {
    "lenName": 16,
    "lenType": 16,
    "lenVar": 40
   },
   "kernels_config": {
    "python": {
     "delete_cmd_postfix": "",
     "delete_cmd_prefix": "del ",
     "library": "var_list.py",
     "varRefreshCmd": "print(var_dic_list())"
    },
    "r": {
     "delete_cmd_postfix": ") ",
     "delete_cmd_prefix": "rm(",
     "library": "var_list.r",
     "varRefreshCmd": "cat(var_dic_list()) "
    }
   },
   "types_to_exclude": [
    "module",
    "function",
    "builtin_function_or_method",
    "instance",
    "_Feature"
   ],
   "window_display": false
  }
 },
 "nbformat": 4,
 "nbformat_minor": 2
}
