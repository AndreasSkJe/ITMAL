{
 "cells": [
  {
   "cell_type": "markdown",
   "metadata": {},
   "source": [
    "# L01\n",
    "## Mini Python Demo\n",
    "\n",
    "\n",
    "REVISIONS||\n",
    "---------||\n",
    "2019-0128|CEF, initial. \n",
    "2019-0806|CEF, E19 ITMAL update. \n",
    "\n",
    "### Mini Python/Jupyternotebook demo\n",
    "\n",
    "Build-in python array an Numpy arrays..."
   ]
  },
  {
   "cell_type": "code",
   "execution_count": 1,
   "metadata": {},
   "outputs": [
    {
     "name": "stdout",
     "output_type": "stream",
     "text": [
      "x = [[1, 2, 3], [4, 5, 6]]\n",
      "\n",
      "y = [[ 1.  2.  3.  4.]\n",
      " [10. 20. 30. 42.]]\n",
      "\n",
      "y.dtype=float64, y.itemsize=8, y.shape=(2, 4)\n",
      "\n",
      "indexing...like a (m x n) matrix\n",
      "2.0\n",
      "4.0\n",
      "3.0\n",
      "[ 2. 20.]\n",
      "\n",
      "OK\n"
     ]
    }
   ],
   "source": [
    "# import clause, imports numpy as the name 'np'\n",
    "import numpy as np\n",
    "\n",
    "# python build-in array\n",
    "x = [[1, 2, 3], [4, 5, 6]]\n",
    "\n",
    "# print using print-f-syntax, prefeed againts say print('x = ',x)\n",
    "print(f'x = {x}')\n",
    "print()\n",
    " \n",
    "# create a numpy array\n",
    "y = np.array( [[1.0, 2, 3, 4], [10, 20, 30, 42]] )\n",
    "\n",
    "print(f'y = {y}')\n",
    "print()\n",
    "print(f'y.dtype={y.dtype}, y.itemsize={y.itemsize}, y.shape={y.shape}')\n",
    "print()\n",
    "\n",
    "print(\"indexing...like a (m x n) matrix\")\n",
    "print(y[0,1])  \n",
    "print(y[0,-1]) # elem 0-from the 'right', strange but pythonic\n",
    "print(y[0,-2]) # elem 1-from the 'right'\n",
    "\n",
    "# print a column, but will display as 'row'\n",
    "print(y[:,1])\n",
    "\n",
    "print('\\nOK')"
   ]
  },
  {
   "cell_type": "markdown",
   "metadata": {},
   "source": [
    "#### Matrix multiplication\n",
    "\n",
    "Just use Numpy as a matrix like class; create a (3 x 4) matrix and do some matrix operations on it... \n",
    "\n",
    "<img src=\"Figs/matrix.jpg\" />\n",
    "\n",
    "(NOTE: do not use `numpy.matrix`, <a href='https://docs.scipy.org/doc/numpy/reference/generated/numpy.matrix.html'>it is unfortunatly depricated.</a>)\n"
   ]
  },
  {
   "cell_type": "code",
   "execution_count": 2,
   "metadata": {},
   "outputs": [
    {
     "name": "stdout",
     "output_type": "stream",
     "text": [
      "x=[[  2  -5 -11   0]\n",
      " [ -9   4   6  13]\n",
      " [  4   7  12  -2]]\n",
      "y.shape=(3, 4)\n",
      "\n",
      "the dot product, np.dot(x, y)=[[ 150 -104 -159]\n",
      " [-104  302   38]\n",
      " [-159   38  213]]\n",
      "\n",
      "matrix type mult: mx*my=[[ 150 -104 -159]\n",
      " [-104  302   38]\n",
      " [-159   38  213]]\n"
     ]
    }
   ],
   "source": [
    "x = np.array([ [2, -5, -11 ,0], [-9, 4, 6, 13], [4, 7, 12, -2]])\n",
    "\n",
    "print(f'x={x}\\ny.shape={x.shape}\\n')\n",
    "y = np.transpose(x)\n",
    "\n",
    "# No direct *-oprator in numpy, \n",
    "#  x*y will throw ValueError: operands could not be broadcast together with shapes (3,4) (4,3)\n",
    "#z=x*y\n",
    "\n",
    "# numpy dot is a typically combo python function; \n",
    "#  inner-product if x and y are 1D arrays (vectors)\n",
    "#  matrix multiplication if x and y are 2D arrays (matrices) \n",
    "\n",
    "z = np.dot(x, y)\n",
    "print(f'the dot product, np.dot(x, y)={z}')\n",
    "\n",
    "# alternatives to .dot:\n",
    "#print(np.matmul(x, y))\n",
    "#print(x @ y)\n",
    "\n",
    "# the depricated numpy matrix \n",
    "mx = np.matrix(x)\n",
    "my = np.matrix(y)\n",
    "mz = mx*my;\n",
    "\n",
    "print(f'\\nmatrix type mult: mx*my={mz}')"
   ]
  },
  {
   "cell_type": "markdown",
   "metadata": {},
   "source": [
    "#### Writing pythonic,robust code\n",
    "\n",
    "Range-checks and fail-fast..."
   ]
  },
  {
   "cell_type": "code",
   "execution_count": 3,
   "metadata": {},
   "outputs": [
    {
     "name": "stdout",
     "output_type": "stream",
     "text": [
      "Writing pythonic,robust code: range-checks and fail-fast...\n",
      "a pythonic assert..\n",
      "a try-catch block..\n",
      "cauth exception e=\"index -5 is out of bounds for axis 1 with size 3\"\n",
      "Traceback (most recent call last):\n",
      "  File \"<ipython-input-3-15b8e7e2ae08>\", line 13, in <module>\n",
      "    print(y[:,-5])\n",
      "IndexError: index -5 is out of bounds for axis 1 with size 3\n",
      "\n",
      "finally executed last no matter what..\n"
     ]
    }
   ],
   "source": [
    "import sys, traceback\n",
    "\n",
    "print('Writing pythonic,robust code: range-checks and fail-fast...')\n",
    "\n",
    "# python do all kinds of range-checks: robust coding\n",
    "#print(y[:,-5]) # will throw!\n",
    "\n",
    "print('a pythonic assert..')\n",
    "assert True==1, 'notice the lack of () in python asserts'\n",
    "\n",
    "print('a try-catch block..')\n",
    "try:\n",
    "    print(y[:,-5])\n",
    "except IndexError as e:\n",
    "    print(f'cauth exception e=\"{e}\"')\n",
    "    traceback.print_exc(file=sys.stdout)\n",
    "    print()\n",
    "finally:\n",
    "    print('finally executed last no matter what..')"
   ]
  }
 ],
 "metadata": {
  "kernelspec": {
   "display_name": "Python 3",
   "language": "python",
   "name": "python3"
  },
  "language_info": {
   "codemirror_mode": {
    "name": "ipython",
    "version": 3
   },
   "file_extension": ".py",
   "mimetype": "text/x-python",
   "name": "python",
   "nbconvert_exporter": "python",
   "pygments_lexer": "ipython3",
   "version": "3.7.3"
  },
  "varInspector": {
   "cols": {
    "lenName": 16,
    "lenType": 16,
    "lenVar": 40
   },
   "kernels_config": {
    "python": {
     "delete_cmd_postfix": "",
     "delete_cmd_prefix": "del ",
     "library": "var_list.py",
     "varRefreshCmd": "print(var_dic_list())"
    },
    "r": {
     "delete_cmd_postfix": ") ",
     "delete_cmd_prefix": "rm(",
     "library": "var_list.r",
     "varRefreshCmd": "cat(var_dic_list()) "
    }
   },
   "types_to_exclude": [
    "module",
    "function",
    "builtin_function_or_method",
    "instance",
    "_Feature"
   ],
   "window_display": true
  }
 },
 "nbformat": 4,
 "nbformat_minor": 2
}
